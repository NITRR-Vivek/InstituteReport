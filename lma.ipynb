{
 "cells": [
  {
   "cell_type": "code",
   "execution_count": null,
   "metadata": {},
   "outputs": [
    {
     "name": "stdout",
     "output_type": "stream",
     "text": [
      "^C\n"
     ]
    }
   ],
   "source": [
    "# # ! pip install openai\n",
    "# ! pip uninstall openai\n",
    "# ! pip install openai==0.28"
   ]
  },
  {
   "cell_type": "code",
   "execution_count": null,
   "metadata": {},
   "outputs": [],
   "source": [
    "api_key = 'nvapi-z_*********'"
   ]
  },
  {
   "cell_type": "code",
   "execution_count": 1,
   "metadata": {},
   "outputs": [
    {
     "name": "stdout",
     "output_type": "stream",
     "text": [
      "```\n",
      "{\n",
      "  \"Institution name\": \"National Institute of Technology Raipur\",\n",
      "  \"Academic Year\": \"2022-23\",\n",
      "  \"Location\": \"Raipur, Chhattisgarh, India\",\n",
      "  \"Established year\": \"1956\",\n",
      "  \"Campus Area\": \"100 acres\",\n",
      "\n",
      "  \"Admission\": {\n",
      "    \"UG Intake\": {\n",
      "      \"B.Tech/B.Arch\": \"936\",\n",
      "      \"B.Tech (Lateral Entry)\": \"120\"\n",
      "    },\n",
      "    \"PG Intake\": {\n",
      "      \"M.Tech\": \"354\",\n",
      "      \"M.Sc\": \"54\",\n",
      "      \"MCA\": \"60\",\n",
      "      \"M.B.A\": \"60\"\n",
      "    },\n",
      "    \"Criteria for admission\": \"JEE (Main) for UG, GATE for M.Tech, NIMCET for MCA, CAT/CMAT for MBA\"\n",
      "  },\n",
      "\n",
      "  \"Placement\": {\n",
      "    \"Highest Package\": \"49.50 LPA\",\n",
      "    \"Average Package\": \"9.30 LPA\",\n",
      "    \"Placement Percentage\": \"95.50%\",\n",
      "    \"Top Recruiters\": [\"Microsoft\", \"Google\", \"Amazon\", \"TCS\", \"Infosys\"]\n",
      "  },\n",
      "\n",
      "  \"Merits\": [\n",
      "    \"Autonomous Institute\",\n",
      "    \"NBA Accreditation for various programs\",\n",
      "    \"Consistently ranked among top NITs in India\"\n",
      "  ],\n",
      "\n",
      "  \"Demerits\": [\n",
      "    \"Limited availability of certain specializations\",\n",
      "    \"Complaints about infrastructure maintenance in some areas\"\n",
      "  ],\n",
      "\n",
      "  \"Infrastructure\": {\n",
      "    \"Academic\": \"Wi-Fi enabled classrooms, labs, and library\",\n",
      "    \"Residential\": \"7 Boys and 3 Girls hostels with mess facilities\",\n",
      "    \"Sports\": \"Cricket, Football, Basketball, Tennis, and Gymnasium\",\n",
      "    \"other amenities\": \"Medical facility, Canteen, ATM, Post Office\"\n",
      "  },\n",
      "\n",
      "  \"Achievements\": [\n",
      "    \"Ranked 63rd in NIRF Engineering Ranking 2022\",\n",
      "    \"Received 'Institution of Excellence' award from Govt. of Chhattisgarh\",\n",
      "    \"MOUs with international universities for collaborative research\"\n",
      "  ]\n",
      "}\n",
      "```"
     ]
    }
   ],
   "source": [
    "import openai\n",
    "\n",
    "openai.api_base = \"https://integrate.api.nvidia.com/v1\"\n",
    "openai.api_key = api_key\n",
    "\n",
    "response = openai.ChatCompletion.create(\n",
    "    model=\"nvidia/llama-3.1-nemotron-70b-instruct\",\n",
    "    # messages=[{\"role\": \"user\", \"content\": \"Write a limerick about the wonders of GPU computing.\"}],\n",
    "    messages=[{\"role\":\"user\",\"content\":\"https://nitrr.ac.in/downloads/annual_reports/Annual%20Report%202022-23.pdf provide data in json format\\nin the following format\\n{\\n\\\"Institution name\\\": ,\\n\\\"Academic Year\\\": ,\\n\\\"Location\\\": ,\\n\\\"Established year\\\": ,\\n\\\"Campus Area\\\": ,\\n\\\"Admission\\\": {\\n\\\"UG Intake\\\": {},\\n\\\"PG Intake\\\": {},\\n\\\"Criteria for admission\\\":\\n},\\n\\\"Placement\\\": {\\n\\\"Highest Package\\\": ,\\n\\\"Average Package\\\": ,\\n\\\"Placement Percentage\\\": ,\\n\\\"Top Recruiters\\\": \\n},\\n\\\"Merits\\\": ,\\n\\\"Demerits\\\":,\\n\\\"Infrastructure\\\": {\\n\\\"Academic\\\": ,\\n\\\"Residential\\\": ,\\n\\\"Sports\\\": ,\\n\\\"other amenities\\\" ,\\n},\\n\\\"Achievements\\\":\\n}\\n\\nreturn json only and nothing else\"}],\n",
    "    temperature=0.5,\n",
    "    top_p=1,\n",
    "    max_tokens=1024,\n",
    "    stream=True\n",
    ")\n",
    "\n",
    "for chunk in response:\n",
    "    if chunk.get('choices', [{}])[0].get('delta', {}).get('content'):\n",
    "        print(chunk.choices[0].delta.content, end=\"\")"
   ]
  },
  {
   "cell_type": "code",
   "execution_count": 3,
   "metadata": {},
   "outputs": [
    {
     "ename": "AttributeError",
     "evalue": "'dict' object has no attribute 'link'",
     "output_type": "error",
     "traceback": [
      "\u001b[1;31m---------------------------------------------------------------------------\u001b[0m",
      "\u001b[1;31mAttributeError\u001b[0m                            Traceback (most recent call last)",
      "Cell \u001b[1;32mIn[3], line 8\u001b[0m\n\u001b[0;32m      1\u001b[0m request \u001b[38;5;241m=\u001b[39m {\n\u001b[0;32m      2\u001b[0m     \u001b[38;5;124m\"\u001b[39m\u001b[38;5;124mlink\u001b[39m\u001b[38;5;124m\"\u001b[39m: \u001b[38;5;124m\"\u001b[39m\u001b[38;5;124mhttps://nitrr.ac.in/downloads/annual_reports/Annual\u001b[39m\u001b[38;5;124m%\u001b[39m\u001b[38;5;124m20Report\u001b[39m\u001b[38;5;124m%\u001b[39m\u001b[38;5;124m202022-23.pdf\u001b[39m\u001b[38;5;124m\"\u001b[39m\n\u001b[0;32m      3\u001b[0m }\n\u001b[0;32m      5\u001b[0m messages \u001b[38;5;241m=\u001b[39m [\n\u001b[0;32m      6\u001b[0m         {\n\u001b[0;32m      7\u001b[0m         \u001b[38;5;124m\"\u001b[39m\u001b[38;5;124mrole\u001b[39m\u001b[38;5;124m\"\u001b[39m: \u001b[38;5;124m\"\u001b[39m\u001b[38;5;124muser\u001b[39m\u001b[38;5;124m\"\u001b[39m,\n\u001b[1;32m----> 8\u001b[0m         \u001b[38;5;124m\"\u001b[39m\u001b[38;5;124mcontent\u001b[39m\u001b[38;5;124m\"\u001b[39m: \u001b[38;5;124mf\u001b[39m\u001b[38;5;124m\"\u001b[39m\u001b[38;5;132;01m{\u001b[39;00m\u001b[43mrequest\u001b[49m\u001b[38;5;241;43m.\u001b[39;49m\u001b[43mlink\u001b[49m\u001b[38;5;132;01m}\u001b[39;00m\u001b[38;5;124m provide data in JSON format\u001b[39m\u001b[38;5;130;01m\\n\u001b[39;00m\u001b[38;5;124min the following format:\u001b[39m\u001b[38;5;130;01m\\n\u001b[39;00m\u001b[38;5;124m\"\u001b[39m\n\u001b[0;32m      9\u001b[0m                    \u001b[38;5;124m\"\u001b[39m\u001b[38;5;124m{\u001b[39m\u001b[38;5;130;01m\\n\u001b[39;00m\u001b[38;5;124m\"\u001b[39m\n\u001b[0;32m     10\u001b[0m                    \u001b[38;5;124m\"\u001b[39m\u001b[38;5;124m  \u001b[39m\u001b[38;5;130;01m\\\"\u001b[39;00m\u001b[38;5;124mInstitution name\u001b[39m\u001b[38;5;130;01m\\\"\u001b[39;00m\u001b[38;5;124m: \u001b[39m\u001b[38;5;130;01m\\\"\u001b[39;00m\u001b[38;5;130;01m\\\"\u001b[39;00m\u001b[38;5;124m,\u001b[39m\u001b[38;5;130;01m\\n\u001b[39;00m\u001b[38;5;124m\"\u001b[39m\n\u001b[0;32m     11\u001b[0m                    \u001b[38;5;124m\"\u001b[39m\u001b[38;5;124m  \u001b[39m\u001b[38;5;130;01m\\\"\u001b[39;00m\u001b[38;5;124mAcademic Year\u001b[39m\u001b[38;5;130;01m\\\"\u001b[39;00m\u001b[38;5;124m: \u001b[39m\u001b[38;5;130;01m\\\"\u001b[39;00m\u001b[38;5;130;01m\\\"\u001b[39;00m\u001b[38;5;124m,\u001b[39m\u001b[38;5;130;01m\\n\u001b[39;00m\u001b[38;5;124m\"\u001b[39m\n\u001b[0;32m     12\u001b[0m                    \u001b[38;5;124m\"\u001b[39m\u001b[38;5;124m  \u001b[39m\u001b[38;5;130;01m\\\"\u001b[39;00m\u001b[38;5;124mLocation\u001b[39m\u001b[38;5;130;01m\\\"\u001b[39;00m\u001b[38;5;124m: \u001b[39m\u001b[38;5;130;01m\\\"\u001b[39;00m\u001b[38;5;130;01m\\\"\u001b[39;00m\u001b[38;5;124m,\u001b[39m\u001b[38;5;130;01m\\n\u001b[39;00m\u001b[38;5;124m\"\u001b[39m\n\u001b[0;32m     13\u001b[0m                    \u001b[38;5;124m\"\u001b[39m\u001b[38;5;124m  \u001b[39m\u001b[38;5;130;01m\\\"\u001b[39;00m\u001b[38;5;124mEstablished year\u001b[39m\u001b[38;5;130;01m\\\"\u001b[39;00m\u001b[38;5;124m: \u001b[39m\u001b[38;5;130;01m\\\"\u001b[39;00m\u001b[38;5;130;01m\\\"\u001b[39;00m\u001b[38;5;124m,\u001b[39m\u001b[38;5;130;01m\\n\u001b[39;00m\u001b[38;5;124m\"\u001b[39m\n\u001b[0;32m     14\u001b[0m                    \u001b[38;5;124m\"\u001b[39m\u001b[38;5;124m  \u001b[39m\u001b[38;5;130;01m\\\"\u001b[39;00m\u001b[38;5;124mCampus Area\u001b[39m\u001b[38;5;130;01m\\\"\u001b[39;00m\u001b[38;5;124m: \u001b[39m\u001b[38;5;130;01m\\\"\u001b[39;00m\u001b[38;5;130;01m\\\"\u001b[39;00m\u001b[38;5;124m,\u001b[39m\u001b[38;5;130;01m\\n\u001b[39;00m\u001b[38;5;124m\"\u001b[39m\n\u001b[0;32m     15\u001b[0m                    \u001b[38;5;124m\"\u001b[39m\u001b[38;5;124m  \u001b[39m\u001b[38;5;130;01m\\\"\u001b[39;00m\u001b[38;5;124mAdmission\u001b[39m\u001b[38;5;130;01m\\\"\u001b[39;00m\u001b[38;5;124m: \u001b[39m\u001b[38;5;124m{\u001b[39m\u001b[38;5;130;01m\\n\u001b[39;00m\u001b[38;5;124m\"\u001b[39m\n\u001b[0;32m     16\u001b[0m                    \u001b[38;5;124m\"\u001b[39m\u001b[38;5;124m    \u001b[39m\u001b[38;5;130;01m\\\"\u001b[39;00m\u001b[38;5;124mUG Intake\u001b[39m\u001b[38;5;130;01m\\\"\u001b[39;00m\u001b[38;5;124m: 0,\u001b[39m\u001b[38;5;130;01m\\n\u001b[39;00m\u001b[38;5;124m\"\u001b[39m\n\u001b[0;32m     17\u001b[0m                    \u001b[38;5;124m\"\u001b[39m\u001b[38;5;124m    \u001b[39m\u001b[38;5;130;01m\\\"\u001b[39;00m\u001b[38;5;124mPG Intake\u001b[39m\u001b[38;5;130;01m\\\"\u001b[39;00m\u001b[38;5;124m: 0,\u001b[39m\u001b[38;5;130;01m\\n\u001b[39;00m\u001b[38;5;124m\"\u001b[39m\n\u001b[0;32m     18\u001b[0m                    \u001b[38;5;124m\"\u001b[39m\u001b[38;5;124m    \u001b[39m\u001b[38;5;130;01m\\\"\u001b[39;00m\u001b[38;5;124mCriteria for admission\u001b[39m\u001b[38;5;130;01m\\\"\u001b[39;00m\u001b[38;5;124m: \u001b[39m\u001b[38;5;130;01m\\\"\u001b[39;00m\u001b[38;5;130;01m\\\"\u001b[39;00m\u001b[38;5;130;01m\\n\u001b[39;00m\u001b[38;5;124m\"\u001b[39m\n\u001b[0;32m     19\u001b[0m                    \u001b[38;5;124m\"\u001b[39m\u001b[38;5;124m  },\u001b[39m\u001b[38;5;130;01m\\n\u001b[39;00m\u001b[38;5;124m\"\u001b[39m\n\u001b[0;32m     20\u001b[0m                    \u001b[38;5;124m\"\u001b[39m\u001b[38;5;124m  \u001b[39m\u001b[38;5;130;01m\\\"\u001b[39;00m\u001b[38;5;124mPlacement\u001b[39m\u001b[38;5;130;01m\\\"\u001b[39;00m\u001b[38;5;124m: \u001b[39m\u001b[38;5;124m{\u001b[39m\u001b[38;5;130;01m\\n\u001b[39;00m\u001b[38;5;124m\"\u001b[39m\n\u001b[0;32m     21\u001b[0m                    \u001b[38;5;124m\"\u001b[39m\u001b[38;5;124m    \u001b[39m\u001b[38;5;130;01m\\\"\u001b[39;00m\u001b[38;5;124mHighest Package\u001b[39m\u001b[38;5;130;01m\\\"\u001b[39;00m\u001b[38;5;124m: \u001b[39m\u001b[38;5;130;01m\\\"\u001b[39;00m\u001b[38;5;130;01m\\\"\u001b[39;00m\u001b[38;5;124m,\u001b[39m\u001b[38;5;130;01m\\n\u001b[39;00m\u001b[38;5;124m\"\u001b[39m\n\u001b[0;32m     22\u001b[0m                    \u001b[38;5;124m\"\u001b[39m\u001b[38;5;124m    \u001b[39m\u001b[38;5;130;01m\\\"\u001b[39;00m\u001b[38;5;124mAverage Package\u001b[39m\u001b[38;5;130;01m\\\"\u001b[39;00m\u001b[38;5;124m: \u001b[39m\u001b[38;5;130;01m\\\"\u001b[39;00m\u001b[38;5;130;01m\\\"\u001b[39;00m\u001b[38;5;124m,\u001b[39m\u001b[38;5;130;01m\\n\u001b[39;00m\u001b[38;5;124m\"\u001b[39m\n\u001b[0;32m     23\u001b[0m                    \u001b[38;5;124m\"\u001b[39m\u001b[38;5;124m    \u001b[39m\u001b[38;5;130;01m\\\"\u001b[39;00m\u001b[38;5;124mPlacement Percentage\u001b[39m\u001b[38;5;130;01m\\\"\u001b[39;00m\u001b[38;5;124m: \u001b[39m\u001b[38;5;130;01m\\\"\u001b[39;00m\u001b[38;5;130;01m\\\"\u001b[39;00m\u001b[38;5;124m,\u001b[39m\u001b[38;5;130;01m\\n\u001b[39;00m\u001b[38;5;124m\"\u001b[39m\n\u001b[0;32m     24\u001b[0m                    \u001b[38;5;124m\"\u001b[39m\u001b[38;5;124m    \u001b[39m\u001b[38;5;130;01m\\\"\u001b[39;00m\u001b[38;5;124mTop Recruiters\u001b[39m\u001b[38;5;130;01m\\\"\u001b[39;00m\u001b[38;5;124m: []\u001b[39m\u001b[38;5;130;01m\\n\u001b[39;00m\u001b[38;5;124m\"\u001b[39m\n\u001b[0;32m     25\u001b[0m                    \u001b[38;5;124m\"\u001b[39m\u001b[38;5;124m  },\u001b[39m\u001b[38;5;130;01m\\n\u001b[39;00m\u001b[38;5;124m\"\u001b[39m\n\u001b[0;32m     26\u001b[0m                    \u001b[38;5;124m\"\u001b[39m\u001b[38;5;124m  \u001b[39m\u001b[38;5;130;01m\\\"\u001b[39;00m\u001b[38;5;124mMerits\u001b[39m\u001b[38;5;130;01m\\\"\u001b[39;00m\u001b[38;5;124m: \u001b[39m\u001b[38;5;130;01m\\\"\u001b[39;00m\u001b[38;5;130;01m\\\"\u001b[39;00m\u001b[38;5;124m,\u001b[39m\u001b[38;5;130;01m\\n\u001b[39;00m\u001b[38;5;124m\"\u001b[39m\n\u001b[0;32m     27\u001b[0m                    \u001b[38;5;124m\"\u001b[39m\u001b[38;5;124m  \u001b[39m\u001b[38;5;130;01m\\\"\u001b[39;00m\u001b[38;5;124mDemerits\u001b[39m\u001b[38;5;130;01m\\\"\u001b[39;00m\u001b[38;5;124m: \u001b[39m\u001b[38;5;130;01m\\\"\u001b[39;00m\u001b[38;5;130;01m\\\"\u001b[39;00m\u001b[38;5;124m,\u001b[39m\u001b[38;5;130;01m\\n\u001b[39;00m\u001b[38;5;124m\"\u001b[39m\n\u001b[0;32m     28\u001b[0m                    \u001b[38;5;124m\"\u001b[39m\u001b[38;5;124m  \u001b[39m\u001b[38;5;130;01m\\\"\u001b[39;00m\u001b[38;5;124mInfrastructure\u001b[39m\u001b[38;5;130;01m\\\"\u001b[39;00m\u001b[38;5;124m: \u001b[39m\u001b[38;5;124m{\u001b[39m\u001b[38;5;130;01m\\n\u001b[39;00m\u001b[38;5;124m\"\u001b[39m\n\u001b[0;32m     29\u001b[0m                    \u001b[38;5;124m\"\u001b[39m\u001b[38;5;124m    \u001b[39m\u001b[38;5;130;01m\\\"\u001b[39;00m\u001b[38;5;124mAcademic\u001b[39m\u001b[38;5;130;01m\\\"\u001b[39;00m\u001b[38;5;124m: \u001b[39m\u001b[38;5;130;01m\\\"\u001b[39;00m\u001b[38;5;130;01m\\\"\u001b[39;00m\u001b[38;5;124m,\u001b[39m\u001b[38;5;130;01m\\n\u001b[39;00m\u001b[38;5;124m\"\u001b[39m\n\u001b[0;32m     30\u001b[0m                    \u001b[38;5;124m\"\u001b[39m\u001b[38;5;124m    \u001b[39m\u001b[38;5;130;01m\\\"\u001b[39;00m\u001b[38;5;124mResidential\u001b[39m\u001b[38;5;130;01m\\\"\u001b[39;00m\u001b[38;5;124m: \u001b[39m\u001b[38;5;130;01m\\\"\u001b[39;00m\u001b[38;5;130;01m\\\"\u001b[39;00m\u001b[38;5;124m,\u001b[39m\u001b[38;5;130;01m\\n\u001b[39;00m\u001b[38;5;124m\"\u001b[39m\n\u001b[0;32m     31\u001b[0m                    \u001b[38;5;124m\"\u001b[39m\u001b[38;5;124m    \u001b[39m\u001b[38;5;130;01m\\\"\u001b[39;00m\u001b[38;5;124mSports\u001b[39m\u001b[38;5;130;01m\\\"\u001b[39;00m\u001b[38;5;124m: \u001b[39m\u001b[38;5;130;01m\\\"\u001b[39;00m\u001b[38;5;130;01m\\\"\u001b[39;00m\u001b[38;5;124m,\u001b[39m\u001b[38;5;130;01m\\n\u001b[39;00m\u001b[38;5;124m\"\u001b[39m\n\u001b[0;32m     32\u001b[0m                    \u001b[38;5;124m\"\u001b[39m\u001b[38;5;124m    \u001b[39m\u001b[38;5;130;01m\\\"\u001b[39;00m\u001b[38;5;124mOther amenities\u001b[39m\u001b[38;5;130;01m\\\"\u001b[39;00m\u001b[38;5;124m: \u001b[39m\u001b[38;5;130;01m\\\"\u001b[39;00m\u001b[38;5;130;01m\\\"\u001b[39;00m\u001b[38;5;130;01m\\n\u001b[39;00m\u001b[38;5;124m\"\u001b[39m\n\u001b[0;32m     33\u001b[0m                    \u001b[38;5;124m\"\u001b[39m\u001b[38;5;124m  },\u001b[39m\u001b[38;5;130;01m\\n\u001b[39;00m\u001b[38;5;124m\"\u001b[39m\n\u001b[0;32m     34\u001b[0m                    \u001b[38;5;124m\"\u001b[39m\u001b[38;5;124m  \u001b[39m\u001b[38;5;130;01m\\\"\u001b[39;00m\u001b[38;5;124mAchievements\u001b[39m\u001b[38;5;130;01m\\\"\u001b[39;00m\u001b[38;5;124m: \u001b[39m\u001b[38;5;130;01m\\\"\u001b[39;00m\u001b[38;5;130;01m\\\"\u001b[39;00m\u001b[38;5;130;01m\\n\u001b[39;00m\u001b[38;5;124m\"\u001b[39m\n\u001b[0;32m     35\u001b[0m                    \u001b[38;5;124m\"\u001b[39m\u001b[38;5;124m}\u001b[39m\u001b[38;5;130;01m\\n\u001b[39;00m\u001b[38;5;124m\"\u001b[39m\n\u001b[0;32m     36\u001b[0m                    \u001b[38;5;124m\"\u001b[39m\u001b[38;5;124mReturn JSON only and nothing else.\u001b[39m\u001b[38;5;124m\"\u001b[39m\n\u001b[0;32m     37\u001b[0m                 }\n\u001b[0;32m     38\u001b[0m         ]\n\u001b[0;32m     40\u001b[0m response \u001b[38;5;241m=\u001b[39m openai\u001b[38;5;241m.\u001b[39mChatCompletion\u001b[38;5;241m.\u001b[39mcreate(\n\u001b[0;32m     41\u001b[0m             model\u001b[38;5;241m=\u001b[39m\u001b[38;5;124m\"\u001b[39m\u001b[38;5;124mnvidia/llama-3.1-nemotron-70b-instruct\u001b[39m\u001b[38;5;124m\"\u001b[39m,\n\u001b[0;32m     42\u001b[0m             messages\u001b[38;5;241m=\u001b[39mmessages,\n\u001b[1;32m   (...)\u001b[0m\n\u001b[0;32m     46\u001b[0m             stream\u001b[38;5;241m=\u001b[39m\u001b[38;5;28;01mTrue\u001b[39;00m\n\u001b[0;32m     47\u001b[0m         )\n\u001b[0;32m     49\u001b[0m json_output \u001b[38;5;241m=\u001b[39m \u001b[38;5;124m\"\u001b[39m\u001b[38;5;124m\"\u001b[39m\n",
      "\u001b[1;31mAttributeError\u001b[0m: 'dict' object has no attribute 'link'"
     ]
    }
   ],
   "source": [
    "request = {\n",
    "    \"link\": \"https://nitrr.ac.in/downloads/annual_reports/Annual%20Report%202022-23.pdf\"\n",
    "}\n",
    "\n",
    "messages = [\n",
    "        {\n",
    "        \"role\": \"user\",\n",
    "        \"content\": f\"{request.link} provide data in JSON format\\nin the following format:\\n\"\n",
    "                   \"{\\n\"\n",
    "                   \"  \\\"Institution name\\\": \\\"\\\",\\n\"\n",
    "                   \"  \\\"Academic Year\\\": \\\"\\\",\\n\"\n",
    "                   \"  \\\"Location\\\": \\\"\\\",\\n\"\n",
    "                   \"  \\\"Established year\\\": \\\"\\\",\\n\"\n",
    "                   \"  \\\"Campus Area\\\": \\\"\\\",\\n\"\n",
    "                   \"  \\\"Admission\\\": {\\n\"\n",
    "                   \"    \\\"UG Intake\\\": 0,\\n\"\n",
    "                   \"    \\\"PG Intake\\\": 0,\\n\"\n",
    "                   \"    \\\"Criteria for admission\\\": \\\"\\\"\\n\"\n",
    "                   \"  },\\n\"\n",
    "                   \"  \\\"Placement\\\": {\\n\"\n",
    "                   \"    \\\"Highest Package\\\": \\\"\\\",\\n\"\n",
    "                   \"    \\\"Average Package\\\": \\\"\\\",\\n\"\n",
    "                   \"    \\\"Placement Percentage\\\": \\\"\\\",\\n\"\n",
    "                   \"    \\\"Top Recruiters\\\": []\\n\"\n",
    "                   \"  },\\n\"\n",
    "                   \"  \\\"Merits\\\": \\\"\\\",\\n\"\n",
    "                   \"  \\\"Demerits\\\": \\\"\\\",\\n\"\n",
    "                   \"  \\\"Infrastructure\\\": {\\n\"\n",
    "                   \"    \\\"Academic\\\": \\\"\\\",\\n\"\n",
    "                   \"    \\\"Residential\\\": \\\"\\\",\\n\"\n",
    "                   \"    \\\"Sports\\\": \\\"\\\",\\n\"\n",
    "                   \"    \\\"Other amenities\\\": \\\"\\\"\\n\"\n",
    "                   \"  },\\n\"\n",
    "                   \"  \\\"Achievements\\\": \\\"\\\"\\n\"\n",
    "                   \"}\\n\"\n",
    "                   \"Return JSON only and nothing else.\"\n",
    "                }\n",
    "        ]\n",
    "\n",
    "response = openai.ChatCompletion.create(\n",
    "            model=\"nvidia/llama-3.1-nemotron-70b-instruct\",\n",
    "            messages=messages,\n",
    "            temperature=0.5,\n",
    "            top_p=1,\n",
    "            max_tokens=1024,\n",
    "            stream=True\n",
    "        )\n",
    "\n",
    "json_output = \"\"\n",
    "\n",
    "for chunk in response:\n",
    "    if chunk.get('choices', [{}])[0].get('delta', {}).get('content'):\n",
    "        json_output += chunk['choices'][0]['delta']['content']\n",
    "\n",
    "\n"
   ]
  },
  {
   "cell_type": "code",
   "execution_count": 11,
   "metadata": {},
   "outputs": [],
   "source": [
    "import json\n",
    "\n",
    "student_intake = 100\n",
    "\n",
    "input_data = {\n",
    "    \"class_counts\": {\n",
    "        \"auditoriums\": 2,\n",
    "        \"bench\": 30,\n",
    "        \"canteen\": 1,\n",
    "        \"chairs\": 30,\n",
    "        \"classroom\": 3,\n",
    "        \"library\": 1,\n",
    "        \"lift\": 1,\n",
    "        \"path\": 3,\n",
    "        \"stairs\": 1,\n",
    "        \"system\": 10,\n",
    "        \"toilet\": 5,\n",
    "        \"urinals\": 3,\n",
    "        \"washbasin\": 5,\n",
    "        \"washroom\": 5\n",
    "    }\n",
    "}\n"
   ]
  },
  {
   "cell_type": "code",
   "execution_count": 12,
   "metadata": {},
   "outputs": [],
   "source": [
    "def calculate_infra_score(data, student_intake):\n",
    "    score = 0\n",
    "    max_score = 5\n",
    "\n",
    "    # Define the minimum requirements per 100 students\n",
    "\n",
    "    requirements = {\n",
    "        \"auditoriums\": 0.1,  # 1 auditorium per 1000 students\n",
    "        \"classroom\": 3,     # 3 classrooms per 100 students\n",
    "        \"library\": 1,       # 1 library per 100 students\n",
    "        \"canteen\": 1,       # 1 canteen per 100 students\n",
    "        \"toilet\": 5,        # 5 toilets per 100 students\n",
    "        \"washroom\": 5,      # 5 washrooms per 100 students\n",
    "        \"bench\": 30,        # 30 benches per 100 students\n",
    "        \"chairs\": 30,       # 30 chairs per 100 students\n",
    "        \"stairs\": 1,        # 1 staircase per 100 students\n",
    "        \"lift\": 0.1         # 1 lift per 1000 students\n",
    "    }\n",
    "\n",
    "\n",
    "    scaled_requirements = {key: value * (student_intake / 100) for key, value in requirements.items()}\n",
    "\n",
    "    for key, required in scaled_requirements.items():\n",
    "        available = data[\"class_counts\"].get(key, 0)\n",
    "        if available >= required:\n",
    "            score += 1\n",
    "\n",
    "    # Normalize score to a 5-point scale\n",
    "    infra_score = (score / len(requirements)) * max_score\n",
    "    return round(infra_score, 2)\n",
    "\n"
   ]
  },
  {
   "cell_type": "code",
   "execution_count": 13,
   "metadata": {},
   "outputs": [
    {
     "name": "stdout",
     "output_type": "stream",
     "text": [
      "Infrastructure Score for 100 students: 5.0 / 5\n"
     ]
    }
   ],
   "source": [
    "# Calculate the infrastructure score\n",
    "infra_score = calculate_infra_score(input_data, student_intake)\n",
    "\n",
    "print(f\"Infrastructure Score for {student_intake} students: {infra_score} / 5\")\n"
   ]
  }
 ],
 "metadata": {
  "kernelspec": {
   "display_name": "Python 3",
   "language": "python",
   "name": "python3"
  },
  "language_info": {
   "codemirror_mode": {
    "name": "ipython",
    "version": 3
   },
   "file_extension": ".py",
   "mimetype": "text/x-python",
   "name": "python",
   "nbconvert_exporter": "python",
   "pygments_lexer": "ipython3",
   "version": "3.10.2"
  }
 },
 "nbformat": 4,
 "nbformat_minor": 2
}
